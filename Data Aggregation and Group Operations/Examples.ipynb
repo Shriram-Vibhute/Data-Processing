{
 "cells": [
  {
   "cell_type": "code",
   "execution_count": 2,
   "metadata": {},
   "outputs": [],
   "source": [
    "import numpy as np\n",
    "import pandas as pd"
   ]
  },
  {
   "cell_type": "markdown",
   "metadata": {},
   "source": [
    "### Filling missing values with Group-Specific values"
   ]
  },
  {
   "cell_type": "code",
   "execution_count": 3,
   "metadata": {},
   "outputs": [
    {
     "data": {
      "text/plain": [
       "East   -0.072679\n",
       "West    0.261570\n",
       "dtype: float64"
      ]
     },
     "execution_count": 3,
     "metadata": {},
     "output_type": "execute_result"
    }
   ],
   "source": [
    "names = ['Dynamo', 'Snax', 'Mortal', 'Scout', 'Joker', 'Krutika', 'Payal', 'Kaashvi']\n",
    "group_key = [\"East\"] * 4 + ['West'] * 4\n",
    "data = pd.Series(np.random.randn(8), index=names)\n",
    "\n",
    "data[['Mortal', 'Joker']] = np.nan\n",
    "\n",
    "data.groupby(group_key).mean()"
   ]
  },
  {
   "cell_type": "code",
   "execution_count": 4,
   "metadata": {},
   "outputs": [
    {
     "data": {
      "text/plain": [
       "East  Dynamo     0.633757\n",
       "      Snax      -0.043969\n",
       "      Mortal    -0.072679\n",
       "      Scout     -0.807824\n",
       "West  Joker      0.261570\n",
       "      Krutika   -0.191036\n",
       "      Payal      0.917992\n",
       "      Kaashvi    0.057754\n",
       "dtype: float64"
      ]
     },
     "execution_count": 4,
     "metadata": {},
     "output_type": "execute_result"
    }
   ],
   "source": [
    "# Filling missing values by mean groupwise\n",
    "lambda x: x.fillna(x.mean())\n",
    "\n",
    "data.groupby(group_key).apply(lambda x: x.fillna(x.mean()))"
   ]
  },
  {
   "cell_type": "code",
   "execution_count": 6,
   "metadata": {},
   "outputs": [
    {
     "data": {
      "text/plain": [
       "East  Dynamo      0.633757\n",
       "      Snax       -0.043969\n",
       "      Mortal     10.000000\n",
       "      Scout      -0.807824\n",
       "West  Joker      20.000000\n",
       "      Krutika    -0.191036\n",
       "      Payal       0.917992\n",
       "      Kaashvi     0.057754\n",
       "dtype: float64"
      ]
     },
     "execution_count": 6,
     "metadata": {},
     "output_type": "execute_result"
    }
   ],
   "source": [
    "fill_values = {'East': 10, 'West': 20}\n",
    "data.groupby(group_key).apply(lambda g: g.fillna(fill_values[g.name]))"
   ]
  },
  {
   "cell_type": "markdown",
   "metadata": {},
   "source": [
    "### Random Sampling and Permutations"
   ]
  },
  {
   "cell_type": "code",
   "execution_count": 3,
   "metadata": {},
   "outputs": [
    {
     "data": {
      "text/plain": [
       "AH    1\n",
       "2H    2\n",
       "3H    3\n",
       "4H    4\n",
       "5H    5\n",
       "dtype: int64"
      ]
     },
     "execution_count": 3,
     "metadata": {},
     "output_type": "execute_result"
    }
   ],
   "source": [
    "suits = ['H', 'S', 'C', 'D']\n",
    "card_val = (list(range(1, 11)) + [10] * 3) * 4\n",
    "base_names = ['A'] + list(range(2, 11)) + ['J', 'K', 'Q']\n",
    "\n",
    "cards = []\n",
    "\n",
    "for suit in suits:\n",
    "    cards.extend((str(num) + suit) for num in base_names) \n",
    "\n",
    "deck = pd.Series(card_val, index=cards)\n",
    "deck.head(5) # Total 52 cards"
   ]
  },
  {
   "cell_type": "code",
   "execution_count": 4,
   "metadata": {},
   "outputs": [
    {
     "data": {
      "text/plain": [
       "C  3C     3\n",
       "   AC     1\n",
       "D  4D     4\n",
       "   2D     2\n",
       "H  AH     1\n",
       "   QH    10\n",
       "S  9S     9\n",
       "   3S     3\n",
       "dtype: int64"
      ]
     },
     "execution_count": 4,
     "metadata": {},
     "output_type": "execute_result"
    }
   ],
   "source": [
    "# Sampling based on each group\n",
    "def do_sample(df, n = 5):\n",
    "    return df.sample(n)\n",
    "\n",
    "deck.groupby(lambda card: card[-1]).apply(do_sample, n = 2)\n",
    "\n",
    "# lambda card: card[-1] - if we apply a function(other than regular function) then grouping is applied over indexes"
   ]
  },
  {
   "cell_type": "code",
   "execution_count": 7,
   "metadata": {},
   "outputs": [
    {
     "data": {
      "text/plain": [
       "2C      2\n",
       "6C      6\n",
       "8D      8\n",
       "10D    10\n",
       "3H      3\n",
       "10H    10\n",
       "3S      3\n",
       "JS     10\n",
       "dtype: int64"
      ]
     },
     "execution_count": 7,
     "metadata": {},
     "output_type": "execute_result"
    }
   ],
   "source": [
    "deck.groupby(lambda card: card[-1]).sample(2)"
   ]
  }
 ],
 "metadata": {
  "kernelspec": {
   "display_name": "Python 3",
   "language": "python",
   "name": "python3"
  },
  "language_info": {
   "codemirror_mode": {
    "name": "ipython",
    "version": 3
   },
   "file_extension": ".py",
   "mimetype": "text/x-python",
   "name": "python",
   "nbconvert_exporter": "python",
   "pygments_lexer": "ipython3",
   "version": "3.12.2"
  }
 },
 "nbformat": 4,
 "nbformat_minor": 2
}
